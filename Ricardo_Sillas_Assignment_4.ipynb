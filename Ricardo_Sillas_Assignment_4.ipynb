{
  "nbformat": 4,
  "nbformat_minor": 0,
  "metadata": {
    "colab": {
      "provenance": []
    },
    "kernelspec": {
      "name": "python3",
      "display_name": "Python 3"
    },
    "language_info": {
      "name": "python"
    }
  },
  "cells": [
    {
      "cell_type": "markdown",
      "source": [
        "## **Before you start**\n",
        "\n",
        "Make a copy of this Colab by clicking on File > Save a Copy in Drive\n",
        "\n",
        "After making a copy, add your student id, last name, and first name to the title."
      ],
      "metadata": {
        "id": "wUCyUM9O2xfA"
      }
    },
    {
      "cell_type": "code",
      "source": [
        "student_name = \"Ricardo Sillas\"\n",
        "student_id = \"88613474\"\n",
        "print(\"Identifying Information: \",student_name+\",\"+student_id); # Don't change this line."
      ],
      "metadata": {
        "id": "3Wjb-2xz2zxN",
        "colab": {
          "base_uri": "https://localhost:8080/"
        },
        "outputId": "ad1beef9-70a1-4c75-e13a-de9a345079e4"
      },
      "execution_count": null,
      "outputs": [
        {
          "output_type": "stream",
          "name": "stdout",
          "text": [
            "Identifying Information:  Ricardo Sillas,88613474\n"
          ]
        }
      ]
    },
    {
      "cell_type": "markdown",
      "metadata": {
        "id": "bs6gdwL7VSc1"
      },
      "source": [
        "# Exercises Naive Bayes Classifier"
      ]
    },
    {
      "cell_type": "markdown",
      "metadata": {
        "id": "2-SBxroVVboY"
      },
      "source": [
        "## Naive Bayes - Example"
      ]
    },
    {
      "cell_type": "markdown",
      "metadata": {
        "id": "TMZfZrcjSuWX"
      },
      "source": [
        "Consider a dataset with 3 classes and 5 binary attributes. Let the arrays p_class and p_att_given_class be:"
      ]
    },
    {
      "cell_type": "code",
      "metadata": {
        "colab": {
          "base_uri": "https://localhost:8080/"
        },
        "id": "m9ElybXpS2vk",
        "outputId": "34961dbc-9fee-4a4f-d653-d64dd82063e8"
      },
      "source": [
        "import numpy as np\n",
        "\n",
        "p_class = np.ones(3)/3\n",
        "p_att_given_class = np.array([[0.72, 0.21, 0.89, 0.47, 0.64],[0.32, 0.82, 0.54, 0.82, 0.17],[0.76, 0.65, 0.74, 0.31, 0.75]])\n",
        "\n",
        "print(p_class)\n",
        "print()\n",
        "print(p_att_given_class)\n"
      ],
      "execution_count": null,
      "outputs": [
        {
          "output_type": "stream",
          "name": "stdout",
          "text": [
            "[0.33333333 0.33333333 0.33333333]\n",
            "\n",
            "[[0.72 0.21 0.89 0.47 0.64]\n",
            " [0.32 0.82 0.54 0.82 0.17]\n",
            " [0.76 0.65 0.74 0.31 0.75]]\n"
          ]
        }
      ]
    },
    {
      "cell_type": "markdown",
      "metadata": {
        "id": "5-zEYZGQTGc9"
      },
      "source": [
        "where p_class[i] represents the probability that an example belongs to class i and p_att_given_class[i,j] \n",
        "represents the probability that attribute j in an example of class i is equal to 1. "
      ]
    },
    {
      "cell_type": "markdown",
      "metadata": {
        "id": "e9Y4_l2HTOJc"
      },
      "source": [
        "What is the probability that for an example of class 2, attribute 0 is equal to 1?"
      ]
    },
    {
      "cell_type": "code",
      "metadata": {
        "colab": {
          "base_uri": "https://localhost:8080/"
        },
        "id": "Zfx8C1JcTa9i",
        "outputId": "4d80ac52-8671-46fa-c12b-09eafca260ce"
      },
      "source": [
        "print(p_att_given_class[2,0])"
      ],
      "execution_count": null,
      "outputs": [
        {
          "output_type": "stream",
          "name": "stdout",
          "text": [
            "0.76\n"
          ]
        }
      ]
    },
    {
      "cell_type": "markdown",
      "metadata": {
        "id": "_qwf-athTmc1"
      },
      "source": [
        "What is the probability that for an example of class 1, attribute 4 is equal to 0?"
      ]
    },
    {
      "cell_type": "code",
      "metadata": {
        "colab": {
          "base_uri": "https://localhost:8080/"
        },
        "id": "uuCggzIqToud",
        "outputId": "55eaf455-f7d8-4539-fdec-ad718df1c962"
      },
      "source": [
        "print(1-p_att_given_class[1,4])"
      ],
      "execution_count": null,
      "outputs": [
        {
          "output_type": "stream",
          "name": "stdout",
          "text": [
            "0.83\n"
          ]
        }
      ]
    },
    {
      "cell_type": "markdown",
      "metadata": {
        "id": "5_k8wCMxTbwV"
      },
      "source": [
        "How would the Naïve Bayes classifier classify example [1,1,1,0,0]? "
      ]
    },
    {
      "cell_type": "code",
      "metadata": {
        "id": "0ZDzTtoYTwBk"
      },
      "source": [
        "def classify(x,pc,pac):\n",
        "  p = pc \n",
        "  for i in range(x.shape[0]): #i = 3\n",
        "    if x[i]==1:\n",
        "      p = p* pac[:,i] \n",
        "    else:\n",
        "      p = p*(1-pac[:,i])\n",
        "  p = p/np.sum(p)\n",
        "  # print(p)  Accuracy = 0.157\n",
        "  return np.argmax(p)\n"
      ],
      "execution_count": null,
      "outputs": []
    },
    {
      "cell_type": "code",
      "metadata": {
        "id": "yfoDFaqKIAQL"
      },
      "source": [
        "def classify_no_loops(x,pc,pac):\n",
        "  p = x*pac + (1-x)*(1-pac)\n",
        "  p = np.prod(p, axis=1)\n",
        "  p = pc*p\n",
        "  p = p/np.sum(p)\n",
        "  # print(p)\n",
        "  return np.argmax(p)"
      ],
      "execution_count": null,
      "outputs": []
    },
    {
      "cell_type": "code",
      "metadata": {
        "colab": {
          "base_uri": "https://localhost:8080/"
        },
        "id": "csF66Y2ZmU8l",
        "outputId": "12f9e87d-63c2-4100-8b46-349ac03b0ae8"
      },
      "source": [
        "test_example = np.array([1,1,1,0,0])\n",
        "\n",
        "classify(test_example,p_class,p_att_given_class)"
      ],
      "execution_count": null,
      "outputs": [
        {
          "output_type": "execute_result",
          "data": {
            "text/plain": [
              "2"
            ]
          },
          "metadata": {},
          "execution_count": 33
        }
      ]
    },
    {
      "cell_type": "code",
      "source": [
        "test_example = np.array([1,1,1,0,0])\n",
        "\n",
        "classify_no_loops(test_example, p_class, p_att_given_class)\n"
      ],
      "metadata": {
        "colab": {
          "base_uri": "https://localhost:8080/"
        },
        "id": "2wTTbY5-avDY",
        "outputId": "91a861d7-3337-4557-e7fd-5f226f80d0b3"
      },
      "execution_count": null,
      "outputs": [
        {
          "output_type": "execute_result",
          "data": {
            "text/plain": [
              "2"
            ]
          },
          "metadata": {},
          "execution_count": 34
        }
      ]
    },
    {
      "cell_type": "markdown",
      "metadata": {
        "id": "oGIf2Y1wVh81"
      },
      "source": [
        "## Exercise 1"
      ]
    },
    {
      "cell_type": "markdown",
      "metadata": {
        "id": "dYvyltX-nUfE"
      },
      "source": [
        "Write a program to classify the MNIST dataset using the Naive Bayes classifer. \n",
        "\n",
        "Read the dataset"
      ]
    },
    {
      "cell_type": "code",
      "metadata": {
        "id": "dVaf0APAVoLQ"
      },
      "source": [
        "import tensorflow as tf\n",
        "(x_train, y_train), (x_test, y_test) = tf.keras.datasets.mnist.load_data()\n",
        "x_train = np.float32(x_train/255).reshape(x_train.shape[0],-1)\n",
        "x_test = np.float32(x_test/255).reshape(x_test.shape[0],-1)"
      ],
      "execution_count": null,
      "outputs": []
    },
    {
      "cell_type": "code",
      "source": [
        "for i in range(len(x_train)):\n",
        "  if x_train != y_train:\n",
        "    print(False)\n",
        "    break\n",
        "print(True)"
      ],
      "metadata": {
        "colab": {
          "base_uri": "https://localhost:8080/"
        },
        "id": "ei8V7FxWsUNx",
        "outputId": "d7351426-80ec-4fac-a74d-fb27ede39af6"
      },
      "execution_count": null,
      "outputs": [
        {
          "output_type": "stream",
          "name": "stdout",
          "text": [
            "False\n",
            "True\n"
          ]
        },
        {
          "output_type": "stream",
          "name": "stderr",
          "text": [
            "<ipython-input-7-a511ac8a5cad>:2: DeprecationWarning: elementwise comparison failed; this will raise an error in the future.\n",
            "  if x_train != y_train:\n"
          ]
        }
      ]
    },
    {
      "cell_type": "markdown",
      "source": [
        "Create a new dataset using binary attributes as follows:\n",
        "\n",
        "m = mean pixel value in x_train\n",
        "\n",
        "x_train_binary[i,j]  =  1 if x_train[i,j] >m; otherwise x_train_binary[i,j] = 0\n",
        "\n",
        "x_test_binary[i,j]  =  1 if x_test[i,j] >m; otherwise x_test_binary[i,j] = 0\n",
        "\n"
      ],
      "metadata": {
        "id": "iyFT71st15-v"
      }
    },
    {
      "cell_type": "code",
      "metadata": {
        "id": "2g3AeGO1pgyy"
      },
      "source": [
        "x_train_pixels = np.copy(x_train) \n",
        "x_test_pixels = np.copy(x_test)\n",
        "m = np.mean(x_train)\n",
        "\n",
        "x_train_pixels[x_train_pixels > m ] = 1\n",
        "x_train_pixels[x_train_pixels <= m ] = 0\n",
        "\n",
        "x_test_pixels[x_test_pixels > m ] = 1\n",
        "x_test_pixels[x_test_pixels <= m ] = 0"
      ],
      "execution_count": null,
      "outputs": []
    },
    {
      "cell_type": "markdown",
      "metadata": {
        "id": "8YhHybUbnvJr"
      },
      "source": [
        "Compute class probabilities (p_class) from training data, where p_class[i] represents the probability that an example belongs to class i. You can estimate this by dividing the number of instances in your training dataset that belong to class i over the number of training examples."
      ]
    },
    {
      "cell_type": "code",
      "metadata": {
        "id": "CJsGkQ7hVo1F",
        "colab": {
          "base_uri": "https://localhost:8080/"
        },
        "outputId": "1dc14ae9-44cb-4307-863a-0ab6cfe5878f"
      },
      "source": [
        "p_class = np.zeros(10)\n",
        "\n",
        "for i in range(p_class.size):\n",
        "  p_class[i] = (y_train[y_train == i].size) / y_train.shape[0]\n",
        "\n",
        "print(p_class)"
      ],
      "execution_count": null,
      "outputs": [
        {
          "output_type": "stream",
          "name": "stdout",
          "text": [
            "[0.09871667 0.11236667 0.0993     0.10218333 0.09736667 0.09035\n",
            " 0.09863333 0.10441667 0.09751667 0.09915   ]\n"
          ]
        }
      ]
    },
    {
      "cell_type": "markdown",
      "metadata": {
        "id": "svKdIXQWnxtr"
      },
      "source": [
        "Compute conditional probabilities (p_att_given_class) from training data, where p_att_given_class[i,j] represents the probability that attribute j in an example of class i is equal to 1. You can estimate this by dividing the number of times attribute j is equal to 1 in training instances of class j over the number of training instances of class i"
      ]
    },
    {
      "cell_type": "code",
      "source": [
        "p_att_given_class = np.zeros((np.shape(p_class)[0],(np.shape(x_train)[1])))\n",
        "\n",
        "for i in range(np.shape(p_att_given_class)[0]):\n",
        "  indices = y_train == i\n",
        "  p_att_given_class[i] = np.sum(x_train_pixels[indices], axis=0) / np.sum(indices) # axis=0 gets column sum\n",
        "\n",
        "print(p_att_given_class)"
      ],
      "metadata": {
        "colab": {
          "base_uri": "https://localhost:8080/"
        },
        "id": "dRROFBlzMUWI",
        "outputId": "acb650df-907e-4571-e6ca-e123232000f9"
      },
      "execution_count": null,
      "outputs": [
        {
          "output_type": "stream",
          "name": "stdout",
          "text": [
            "[[0. 0. 0. ... 0. 0. 0.]\n",
            " [0. 0. 0. ... 0. 0. 0.]\n",
            " [0. 0. 0. ... 0. 0. 0.]\n",
            " ...\n",
            " [0. 0. 0. ... 0. 0. 0.]\n",
            " [0. 0. 0. ... 0. 0. 0.]\n",
            " [0. 0. 0. ... 0. 0. 0.]]\n"
          ]
        }
      ]
    },
    {
      "cell_type": "markdown",
      "metadata": {
        "id": "ohcp-tEJn5bz"
      },
      "source": [
        "Classify test data - print accuracy and confusion matrix (feel free to use sklearn to print the accuracy and confusion matrix)\n",
        "\n",
        "\n"
      ]
    },
    {
      "cell_type": "code",
      "source": [
        "from sklearn.metrics import accuracy_score, confusion_matrix\n",
        "\n",
        "# Used to run classify_no_loops\n",
        "x_predictions_one = np.zeros(np.shape(y_test)[0])\n",
        "for x in range(np.shape(x_test_pixels)[0]):\n",
        "  x_predictions_one[x] = classify_no_loops(x_test_pixels[x], p_class, p_att_given_class)\n",
        "\n",
        "# Used to run classify\n",
        "x_predictions_two = np.zeros(np.shape(y_test)[0])\n",
        "for x in range(np.shape(x_test_pixels)[0]):\n",
        "  x_predictions_two[x] = classify(x_test_pixels[x], p_class, p_att_given_class)\n",
        "\n",
        "print(\"Accuracy with classify_no_loops method: {:.3f}\".format(accuracy_score(y_test, x_predictions_one)))\n",
        "print(confusion_matrix(y_test, x_predictions_one))\n",
        "\n",
        "print(\"Accuracy with classify method: {:.3f}\".format(accuracy_score(y_test, x_predictions_two)))\n",
        "print(confusion_matrix(y_test, x_predictions_two))"
      ],
      "metadata": {
        "colab": {
          "base_uri": "https://localhost:8080/"
        },
        "id": "15aEfrZ8NaIQ",
        "outputId": "edf360c4-e401-4535-952e-ed5dcf3a2258"
      },
      "execution_count": null,
      "outputs": [
        {
          "output_type": "stream",
          "name": "stdout",
          "text": [
            "Accuracy with classify_no_loops method: 0.846\n",
            "[[ 893    0    4    5    1   33   22    1   21    0]\n",
            " [   0 1082   11    4    0   11    5    0   22    0]\n",
            " [  17   12  852   31   20    4   25   15   53    3]\n",
            " [   3   15   35  853    0   14    8   17   44   21]\n",
            " [   1    7    8    1  801    3   19    3   16  123]\n",
            " [  22    8    5  122   21  640   19    8   26   21]\n",
            " [  13   16   16    2   11   34  860    0    6    0]\n",
            " [   1   28   15    5   14    1    1  866   29   68]\n",
            " [  15   23   12   74   13   23   12    6  760   36]\n",
            " [  10   13    6    9   69    9    0   24   18  851]]\n",
            "Accuracy with classify method: 0.846\n",
            "[[ 893    0    4    5    1   33   22    1   21    0]\n",
            " [   0 1082   11    4    0   11    5    0   22    0]\n",
            " [  17   12  852   31   20    4   25   15   53    3]\n",
            " [   3   15   35  853    0   14    8   17   44   21]\n",
            " [   1    7    8    1  801    3   19    3   16  123]\n",
            " [  22    8    5  122   21  640   19    8   26   21]\n",
            " [  13   16   16    2   11   34  860    0    6    0]\n",
            " [   1   28   15    5   14    1    1  866   29   68]\n",
            " [  15   23   12   74   13   23   12    6  760   36]\n",
            " [  10   13    6    9   69    9    0   24   18  851]]\n"
          ]
        }
      ]
    },
    {
      "cell_type": "markdown",
      "source": [
        "## Submission Instructions\n",
        "\n",
        "1. File > Download .ipynb\n",
        "2. Go to Blackboard, find the submission page, and upload the .ipynb file you just downloaded."
      ],
      "metadata": {
        "id": "THpbziuF23A4"
      }
    }
  ]
}